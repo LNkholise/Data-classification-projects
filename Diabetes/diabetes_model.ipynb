{
 "cells": [
  {
   "cell_type": "code",
   "execution_count": null,
   "id": "bb3a7e6d",
   "metadata": {},
   "outputs": [],
   "source": [
    "import pandas as pd \n",
    "import numpy as np\n",
    "\n",
    "from keras import models \n",
    "\n",
    "from sklearn.preprocessing import StandardScaler\n",
    "from sklearn.preprocessing import OneHotEncoder\n",
    "from sklearn.preprocessing import LabelEncoder\n",
    "\n",
    "from sklearn.model_selection import  train_test_split"
   ]
  },
  {
   "cell_type": "code",
   "execution_count": 301,
   "id": "3700dade",
   "metadata": {},
   "outputs": [
    {
     "data": {
      "text/html": [
       "<div>\n",
       "<style scoped>\n",
       "    .dataframe tbody tr th:only-of-type {\n",
       "        vertical-align: middle;\n",
       "    }\n",
       "\n",
       "    .dataframe tbody tr th {\n",
       "        vertical-align: top;\n",
       "    }\n",
       "\n",
       "    .dataframe thead th {\n",
       "        text-align: right;\n",
       "    }\n",
       "</style>\n",
       "<table border=\"1\" class=\"dataframe\">\n",
       "  <thead>\n",
       "    <tr style=\"text-align: right;\">\n",
       "      <th></th>\n",
       "      <th>AGE</th>\n",
       "      <th>Urea</th>\n",
       "      <th>Cr</th>\n",
       "      <th>HbA1c</th>\n",
       "      <th>Chol</th>\n",
       "      <th>TG</th>\n",
       "      <th>HDL</th>\n",
       "      <th>LDL</th>\n",
       "      <th>VLDL</th>\n",
       "      <th>BMI</th>\n",
       "      <th>CLASS</th>\n",
       "      <th>_F</th>\n",
       "      <th>_M</th>\n",
       "    </tr>\n",
       "  </thead>\n",
       "  <tbody>\n",
       "    <tr>\n",
       "      <th>0</th>\n",
       "      <td>50</td>\n",
       "      <td>4.7</td>\n",
       "      <td>46</td>\n",
       "      <td>4.9</td>\n",
       "      <td>4.2</td>\n",
       "      <td>0.9</td>\n",
       "      <td>2.4</td>\n",
       "      <td>1.4</td>\n",
       "      <td>0.5</td>\n",
       "      <td>24.0</td>\n",
       "      <td>N</td>\n",
       "      <td>1</td>\n",
       "      <td>0</td>\n",
       "    </tr>\n",
       "    <tr>\n",
       "      <th>1</th>\n",
       "      <td>26</td>\n",
       "      <td>4.5</td>\n",
       "      <td>62</td>\n",
       "      <td>4.9</td>\n",
       "      <td>3.7</td>\n",
       "      <td>1.4</td>\n",
       "      <td>1.1</td>\n",
       "      <td>2.1</td>\n",
       "      <td>0.6</td>\n",
       "      <td>23.0</td>\n",
       "      <td>N</td>\n",
       "      <td>0</td>\n",
       "      <td>1</td>\n",
       "    </tr>\n",
       "    <tr>\n",
       "      <th>2</th>\n",
       "      <td>50</td>\n",
       "      <td>4.7</td>\n",
       "      <td>46</td>\n",
       "      <td>4.9</td>\n",
       "      <td>4.2</td>\n",
       "      <td>0.9</td>\n",
       "      <td>2.4</td>\n",
       "      <td>1.4</td>\n",
       "      <td>0.5</td>\n",
       "      <td>24.0</td>\n",
       "      <td>N</td>\n",
       "      <td>1</td>\n",
       "      <td>0</td>\n",
       "    </tr>\n",
       "    <tr>\n",
       "      <th>3</th>\n",
       "      <td>50</td>\n",
       "      <td>4.7</td>\n",
       "      <td>46</td>\n",
       "      <td>4.9</td>\n",
       "      <td>4.2</td>\n",
       "      <td>0.9</td>\n",
       "      <td>2.4</td>\n",
       "      <td>1.4</td>\n",
       "      <td>0.5</td>\n",
       "      <td>24.0</td>\n",
       "      <td>N</td>\n",
       "      <td>1</td>\n",
       "      <td>0</td>\n",
       "    </tr>\n",
       "    <tr>\n",
       "      <th>4</th>\n",
       "      <td>33</td>\n",
       "      <td>7.1</td>\n",
       "      <td>46</td>\n",
       "      <td>4.9</td>\n",
       "      <td>4.9</td>\n",
       "      <td>1.0</td>\n",
       "      <td>0.8</td>\n",
       "      <td>2.0</td>\n",
       "      <td>0.4</td>\n",
       "      <td>21.0</td>\n",
       "      <td>N</td>\n",
       "      <td>0</td>\n",
       "      <td>1</td>\n",
       "    </tr>\n",
       "  </tbody>\n",
       "</table>\n",
       "</div>"
      ],
      "text/plain": [
       "   AGE  Urea  Cr  HbA1c  Chol   TG  HDL  LDL  VLDL   BMI CLASS  _F  _M\n",
       "0   50   4.7  46    4.9   4.2  0.9  2.4  1.4   0.5  24.0     N   1   0\n",
       "1   26   4.5  62    4.9   3.7  1.4  1.1  2.1   0.6  23.0     N   0   1\n",
       "2   50   4.7  46    4.9   4.2  0.9  2.4  1.4   0.5  24.0     N   1   0\n",
       "3   50   4.7  46    4.9   4.2  0.9  2.4  1.4   0.5  24.0     N   1   0\n",
       "4   33   7.1  46    4.9   4.9  1.0  0.8  2.0   0.4  21.0     N   0   1"
      ]
     },
     "execution_count": 301,
     "metadata": {},
     "output_type": "execute_result"
    }
   ],
   "source": [
    "training = pd.read_csv(\"Diabetes.csv\")\n",
    "training= pd.get_dummies(training, columns=['Gender'], prefix='',drop_first=False)\n",
    "training.head()"
   ]
  },
  {
   "cell_type": "code",
   "execution_count": 302,
   "id": "a8f20e6d",
   "metadata": {},
   "outputs": [],
   "source": [
    "#print(training.isnull().any())\n",
    "data = training"
   ]
  },
  {
   "cell_type": "code",
   "execution_count": 303,
   "id": "dd779ff6",
   "metadata": {},
   "outputs": [],
   "source": [
    "x = data.iloc[:,data.columns!='CLASS'].values.astype('float32')\n",
    "y = data.loc[:,\"CLASS\"].values"
   ]
  },
  {
   "cell_type": "code",
   "execution_count": 304,
   "id": "6f81ffe4",
   "metadata": {},
   "outputs": [],
   "source": [
    "#0=N,2=Y,1=P\n",
    "label = LabelEncoder()\n",
    "scale = StandardScaler()\n",
    "y=label.fit_transform(y).astype('int')\n",
    "#scale everything besides encoded values _M & _F\n",
    "x[:,:12] = scale.fit_transform(x[:,:12])"
   ]
  },
  {
   "cell_type": "markdown",
   "id": "de706c32",
   "metadata": {},
   "source": [
    "<h1>i.Loading the Necessary Model</h1>\n"
   ]
  },
  {
   "cell_type": "code",
   "execution_count": 305,
   "id": "1c3b6b58",
   "metadata": {},
   "outputs": [],
   "source": [
    "#### spliting the train test data into 2 \n",
    "x_train, x_val_and_test,y_train, y_val_and_test = train_test_split(x, y, test_size=0.2)\n",
    "#splitting it yet again into RANDOM train and test subsets \n",
    "x_val,x_test,y_val,y_test = train_test_split(x_val_and_test, y_val_and_test, test_size=0.5)"
   ]
  },
  {
   "cell_type": "code",
   "execution_count": 306,
   "id": "ffba1f44",
   "metadata": {},
   "outputs": [
    {
     "name": "stdout",
     "output_type": "stream",
     "text": [
      "4/4 [==============================] - 0s 860us/step - loss: 0.0540 - mean_absolute_error: 0.1516\n",
      "Loss(mse):  0.05401701107621193 \n",
      "Mean_absolute_error:  0.15156134963035583 \n",
      "\n",
      "Difference in mean_absolute error and mean_squared_error:  0.0975443385541439\n"
     ]
    }
   ],
   "source": [
    "network = load_model(\"diabetes_model.h5\")\n",
    "feedback = network.evaluate(x_test,y_test)\n",
    "print(\"Loss(mse): \", feedback[0], \"\\nMean_absolute_error: \", feedback[1], \"\\n\\nDifference in mean_absolute error and mean_squared_error: \", abs(feedback[0] - feedback[1]))"
   ]
  },
  {
   "cell_type": "code",
   "execution_count": 307,
   "id": "b7128f66",
   "metadata": {},
   "outputs": [],
   "source": [
    "predicted_target = network.predict(x_test)"
   ]
  },
  {
   "cell_type": "markdown",
   "id": "07d1cb4c",
   "metadata": {},
   "source": [
    "<h1>ii.Calculating F1 score</h1>\n",
    "\n",
    "<p>observing the prediction accuracy of our model by matching each predicted value with the actual one,\n",
    "then finding the percentage of those correctly predicted: </p>\n",
    "<p>1.TP=>Ones correctly predicted as 2 or 1 (positve with diabetes)</p>\n",
    "<p>2.TN=>Ones correctly predicted as 0 (false predicted as false)</p>\n",
    "<p>3.FP=>When negative cases of diabetes are predicted as positive , when 0 is predicted as 2 or 1 (false positives for diabetes)</p>\n",
    "<p>4.FN=>The exect inverse of FP (and most severe) when 2 or 1 is predicted as 0.</p>"
   ]
  },
  {
   "cell_type": "code",
   "execution_count": null,
   "id": "701f9352",
   "metadata": {},
   "outputs": [],
   "source": [
    "correct=0\n",
    "tp,tn,fp,fn=[0,0,0,0]\n",
    "x_axis = []\n",
    "for i in range(y_test.shape[0]):\n",
    "    x_axis.append(i+1);\n",
    "    if (np.round(predicted_target[i],0) == y_test[i]):\n",
    "        correct = correct+1\n",
    "        tp = tp+1 if (y_test[i] == 2 or y_test[i] == 1) else tp+0\n",
    "        tn = tn+1 if (y_test[i] == 0) else tn+0\n",
    "    else:\n",
    "        fp = fp+1 if (y_test[i]==0) else fp+0\n",
    "        fn = fn+1 if (np.round(predicted_target[i],0) == 0) else fn+0\n",
    "accuracy = correct/y_test.shape[0]\n",
    "sensitivity = tp/(tp+fn)\n",
    "specificity = tn/(tn+fp)\n",
    "precision =  tp/(tp+fp)\n",
    "FPR = fp/(fp+tn)\n",
    "FNR = fn/(fn+tp)\n",
    "F1=2*(precision*sensitivity)/(precision+sensitivity)"
   ]
  },
  {
   "cell_type": "code",
   "execution_count": 309,
   "id": "87c37104",
   "metadata": {},
   "outputs": [
    {
     "data": {
      "text/plain": [
       "(100,)"
      ]
     },
     "execution_count": 309,
     "metadata": {},
     "output_type": "execute_result"
    }
   ],
   "source": [
    "y_test.shape"
   ]
  },
  {
   "cell_type": "code",
   "execution_count": 310,
   "id": "da828f34",
   "metadata": {},
   "outputs": [
    {
     "name": "stdout",
     "output_type": "stream",
     "text": [
      "These parameters should be closest as possible to 100%\n",
      " \n",
      "Model Accuracy: \t 0.93 \n",
      "Model Sensitivity: \t 1.0 \n",
      "Model Specificity: \t 0.7 \n",
      "Model Precision: \t 0.9662921348314607\n"
     ]
    }
   ],
   "source": [
    "print(\"These parameters should be closest as possible to 100%\\n\",\"\\nModel Accuracy: \\t\",accuracy,\"\\nModel Sensitivity: \\t\", sensitivity, \"\\nModel Specificity: \\t\", specificity, \"\\nModel Precision: \\t\", precision) "
   ]
  },
  {
   "cell_type": "code",
   "execution_count": 311,
   "id": "42480581",
   "metadata": {},
   "outputs": [
    {
     "name": "stdout",
     "output_type": "stream",
     "text": [
      "These parameters should be closest as possible to 0%\n",
      " \n",
      "False-Positive Rate: \t 0.3 \n",
      "False-Negative Rate: \t 0.0\n"
     ]
    }
   ],
   "source": [
    "print(\"These parameters should be closest as possible to 0%\\n\",\"\\nFalse-Positive Rate: \\t\",FPR,\"\\nFalse-Negative Rate: \\t\",FNR) "
   ]
  },
  {
   "cell_type": "code",
   "execution_count": 312,
   "id": "744b7eaa",
   "metadata": {},
   "outputs": [
    {
     "name": "stdout",
     "output_type": "stream",
     "text": [
      "The calculated F1 score:\t 0.9828571428571428\n"
     ]
    }
   ],
   "source": [
    "#The model can be reloaded and reused anytime at will \n",
    "#network = load_model(\"diabetes_model.h5\")\n",
    "#network.evaluate(x_test,y_test)\n",
    "print(\"The calculated F1 score:\\t\",F1)"
   ]
  },
  {
   "cell_type": "markdown",
   "id": "03bb96b8",
   "metadata": {},
   "source": [
    "<h1>iii.Visualizing Prediction Accuracy</h1>\n",
    "\n",
    "<p>Under ideal circumstances, the graph above should be entirely blue, but due to misspredictions, outlying instances of 'red' are\n",
    "detected.These red outliers could mean one of three cases:</p>\n",
    "<p>1.The model infered the patient was a \"predicted diabetic\", but it turns out \n",
    " the patient was actually \"diabetic\" (these can be excused as good predictions, where 2 was predicted as 1).</p>\n",
    "<p>2.The second being the patient was misdiagnosed entirely, with the model claiming the patient was diabetic, or potentially diabetic while in actual fact it wasn't the case(0 being predicted as either 1 or 2).</p>\n",
    "<p>3.The third being that the patient was predicted as not having diabetes while in fact he/she did or did potentially (1 or 2 being predicted as 0, not so detrimental with 1).</p>"
   ]
  },
  {
   "cell_type": "code",
   "execution_count": 313,
   "id": "9e3a01eb",
   "metadata": {
    "scrolled": true
   },
   "outputs": [
    {
     "data": {
      "text/plain": [
       "Text(0, 0.5, 'Ratings')"
      ]
     },
     "execution_count": 313,
     "metadata": {},
     "output_type": "execute_result"
    },
    {
     "data": {
      "image/png": "[encoded data removed]",
      "text/plain": [
       "<Figure size 432x288 with 1 Axes>"
      ]
     },
     "metadata": {
      "needs_background": "light"
     },
     "output_type": "display_data"
    }
   ],
   "source": [
    "\n",
    "plt.scatter(x_axis,np.round(predicted_target,0).reshape(-1,),color='r',marker='o')\n",
    "plt.scatter(x_axis,y_test,marker='o')\n",
    "plt.title('predicted versus actual raings\\n')\n",
    "plt.xlabel('Index')\n",
    "plt.legend(['predicted','actual'])\n",
    "plt.ylabel('Ratings')\n",
    "plt.save(\"plot.\")"
   ]
  },
  {
   "cell_type": "markdown",
   "id": "e13339b9",
   "metadata": {},
   "source": [
    "<p>1.Any red marker from the graph thats situated at rating '0' is bad (not so much if the corresponding blue is on 1, severe if on 2).\n",
    "\n",
    "2.Any red marker on rating '2' can either be bad (but not as bad as condition .1) or good (a predict diabetic predicted as diabetic, 1 as 2).\n",
    "\n",
    "3.Any outlying red on '2' is bad if a corresponding blue is on '0', otherwise its \"tolerable\", not very good, but \"tolerable\" (predict diabetic as diabetic).</p>"
   ]
  }
 ],
 "metadata": {
  "kernelspec": {
   "display_name": "Python 3 (ipykernel)",
   "language": "python",
   "name": "python3"
  },
  "language_info": {
   "codemirror_mode": {
    "name": "ipython",
    "version": 3
   },
   "file_extension": ".py",
   "mimetype": "text/x-python",
   "name": "python",
   "nbconvert_exporter": "python",
   "pygments_lexer": "ipython3",
   "version": "3.9.7"
  }
 },
 "nbformat": 4,
 "nbformat_minor": 5
}

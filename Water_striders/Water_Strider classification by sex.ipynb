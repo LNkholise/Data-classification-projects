{
 "cells": [
  {
   "cell_type": "code",
   "execution_count": 1,
   "id": "95c03fa7",
   "metadata": {},
   "outputs": [],
   "source": [
    "#Name: Leonard Nkholise \n",
    "#date: 28 December 2021\n",
    "#datasource link: https://royalsocietypublishing.org/doi/10.1098/rspb.2018.2400\n",
    "\n",
    "import pandas as pd\n",
    "import matplotlib.pyplot as plt\n",
    "import numpy as np\n",
    "\n",
    "from sklearn import preprocessing\n",
    "from sklearn.model_selection import train_test_split\n",
    "\n",
    "from matplotlib.colors import ListedColormap"
   ]
  },
  {
   "cell_type": "markdown",
   "id": "bf5d9270",
   "metadata": {},
   "source": [
    "# 2.0 Data Reading & Handling "
   ]
  },
  {
   "cell_type": "markdown",
   "id": "b68e1b0e",
   "metadata": {},
   "source": [
    "## 2.1 Read and assign filtered .csv data into program "
   ]
  },
  {
   "cell_type": "markdown",
   "id": "1b1d6dee",
   "metadata": {},
   "source": [
    "Longipes were regarded as desirable primary examples for this section and thus were added and used through out the procedure. Longipes can be interchanged with americana and pulchella species as they all posses distinctions of both male and female in their recorded data unlike other species."
   ]
  },
  {
   "cell_type": "code",
   "execution_count": 3,
   "id": "a73e7bd8",
   "metadata": {},
   "outputs": [],
   "source": [
    "c_data = pd.read_csv(\"Allometry_all microvelia species.csv\")"
   ]
  },
  {
   "cell_type": "code",
   "execution_count": 4,
   "id": "f75760c9",
   "metadata": {},
   "outputs": [
    {
     "data": {
      "text/html": [
       "<div>\n",
       "<style scoped>\n",
       "    .dataframe tbody tr th:only-of-type {\n",
       "        vertical-align: middle;\n",
       "    }\n",
       "\n",
       "    .dataframe tbody tr th {\n",
       "        vertical-align: top;\n",
       "    }\n",
       "\n",
       "    .dataframe thead th {\n",
       "        text-align: right;\n",
       "    }\n",
       "</style>\n",
       "<table border=\"1\" class=\"dataframe\">\n",
       "  <thead>\n",
       "    <tr style=\"text-align: right;\">\n",
       "      <th></th>\n",
       "      <th>Individuals</th>\n",
       "      <th>Species</th>\n",
       "      <th>Sexe</th>\n",
       "      <th>wing_morph</th>\n",
       "      <th>Total leg length 3</th>\n",
       "      <th>body length</th>\n",
       "    </tr>\n",
       "  </thead>\n",
       "  <tbody>\n",
       "    <tr>\n",
       "      <th>42</th>\n",
       "      <td>66</td>\n",
       "      <td>longipes</td>\n",
       "      <td>M</td>\n",
       "      <td>wingless</td>\n",
       "      <td>5877.653000</td>\n",
       "      <td>1955.072000</td>\n",
       "    </tr>\n",
       "    <tr>\n",
       "      <th>43</th>\n",
       "      <td>68</td>\n",
       "      <td>longipes</td>\n",
       "      <td>M</td>\n",
       "      <td>wingless</td>\n",
       "      <td>5225.772000</td>\n",
       "      <td>1895.612000</td>\n",
       "    </tr>\n",
       "    <tr>\n",
       "      <th>44</th>\n",
       "      <td>69</td>\n",
       "      <td>longipes</td>\n",
       "      <td>M</td>\n",
       "      <td>wingless</td>\n",
       "      <td>5840.742000</td>\n",
       "      <td>1960.864000</td>\n",
       "    </tr>\n",
       "    <tr>\n",
       "      <th>45</th>\n",
       "      <td>70</td>\n",
       "      <td>longipes</td>\n",
       "      <td>M</td>\n",
       "      <td>wingless</td>\n",
       "      <td>6012.491000</td>\n",
       "      <td>1964.802000</td>\n",
       "    </tr>\n",
       "    <tr>\n",
       "      <th>46</th>\n",
       "      <td>71</td>\n",
       "      <td>longipes</td>\n",
       "      <td>M</td>\n",
       "      <td>wingless</td>\n",
       "      <td>7451.682000</td>\n",
       "      <td>2089.121000</td>\n",
       "    </tr>\n",
       "    <tr>\n",
       "      <th>...</th>\n",
       "      <td>...</td>\n",
       "      <td>...</td>\n",
       "      <td>...</td>\n",
       "      <td>...</td>\n",
       "      <td>...</td>\n",
       "      <td>...</td>\n",
       "    </tr>\n",
       "    <tr>\n",
       "      <th>268</th>\n",
       "      <td>129</td>\n",
       "      <td>longipes</td>\n",
       "      <td>F</td>\n",
       "      <td>wingless</td>\n",
       "      <td>2662.044374</td>\n",
       "      <td>2080.895224</td>\n",
       "    </tr>\n",
       "    <tr>\n",
       "      <th>269</th>\n",
       "      <td>130</td>\n",
       "      <td>longipes</td>\n",
       "      <td>F</td>\n",
       "      <td>wingless</td>\n",
       "      <td>2706.456149</td>\n",
       "      <td>2113.664610</td>\n",
       "    </tr>\n",
       "    <tr>\n",
       "      <th>270</th>\n",
       "      <td>131</td>\n",
       "      <td>longipes</td>\n",
       "      <td>F</td>\n",
       "      <td>wingless</td>\n",
       "      <td>3053.442015</td>\n",
       "      <td>2262.229024</td>\n",
       "    </tr>\n",
       "    <tr>\n",
       "      <th>271</th>\n",
       "      <td>132</td>\n",
       "      <td>longipes</td>\n",
       "      <td>F</td>\n",
       "      <td>wingless</td>\n",
       "      <td>2697.001779</td>\n",
       "      <td>2109.554107</td>\n",
       "    </tr>\n",
       "    <tr>\n",
       "      <th>272</th>\n",
       "      <td>133</td>\n",
       "      <td>longipes</td>\n",
       "      <td>F</td>\n",
       "      <td>wingless</td>\n",
       "      <td>2383.521465</td>\n",
       "      <td>1977.112270</td>\n",
       "    </tr>\n",
       "  </tbody>\n",
       "</table>\n",
       "<p>121 rows × 6 columns</p>\n",
       "</div>"
      ],
      "text/plain": [
       "     Individuals   Species Sexe wing_morph  Total leg length 3  body length\n",
       "42            66  longipes    M   wingless         5877.653000  1955.072000\n",
       "43            68  longipes    M   wingless         5225.772000  1895.612000\n",
       "44            69  longipes    M   wingless         5840.742000  1960.864000\n",
       "45            70  longipes    M   wingless         6012.491000  1964.802000\n",
       "46            71  longipes    M   wingless         7451.682000  2089.121000\n",
       "..           ...       ...  ...        ...                 ...          ...\n",
       "268          129  longipes    F   wingless         2662.044374  2080.895224\n",
       "269          130  longipes    F   wingless         2706.456149  2113.664610\n",
       "270          131  longipes    F   wingless         3053.442015  2262.229024\n",
       "271          132  longipes    F   wingless         2697.001779  2109.554107\n",
       "272          133  longipes    F   wingless         2383.521465  1977.112270\n",
       "\n",
       "[121 rows x 6 columns]"
      ]
     },
     "execution_count": 4,
     "metadata": {},
     "output_type": "execute_result"
    }
   ],
   "source": [
    "c_data[c_data[\"Species\"]==\"longipes\"]"
   ]
  },
  {
   "cell_type": "code",
   "execution_count": 5,
   "id": "de71c111",
   "metadata": {},
   "outputs": [
    {
     "data": {
      "text/plain": [
       "(121, 2)"
      ]
     },
     "execution_count": 5,
     "metadata": {},
     "output_type": "execute_result"
    }
   ],
   "source": [
    "#can change to \"americana\"/\"pulchella\" Species\n",
    "c_data=c_data[c_data[\"Species\"]==\"longipes\"] \n",
    "x_data = c_data.iloc[:,[4,5]].values\n",
    "y_data = c_data.loc[:,\"Sexe\"].values\n",
    "x_data.shape"
   ]
  },
  {
   "cell_type": "markdown",
   "id": "525762ab",
   "metadata": {},
   "source": [
    "## 2.2 Label encoding for male and female variants of species"
   ]
  },
  {
   "cell_type": "code",
   "execution_count": 6,
   "id": "eb9afa41",
   "metadata": {},
   "outputs": [
    {
     "data": {
      "text/plain": [
       "(121, 1)"
      ]
     },
     "execution_count": 6,
     "metadata": {},
     "output_type": "execute_result"
    }
   ],
   "source": [
    "#Label encoding for male and female\n",
    "lab_enc=preprocessing.LabelEncoder()\n",
    "y_data = lab_enc.fit_transform(y_data).reshape(-1,1)\n",
    "y_data.shape"
   ]
  },
  {
   "cell_type": "markdown",
   "id": "562f9faa",
   "metadata": {},
   "source": [
    "## 2.3 Data splitting and Logistic regression training on data"
   ]
  },
  {
   "cell_type": "code",
   "execution_count": 7,
   "id": "20efeb7d",
   "metadata": {},
   "outputs": [],
   "source": [
    "#splitting data into training and test sets\n",
    "x_train,x_test,y_train,y_test = train_test_split(x_data,y_data, test_size = 0.43, random_state=0)"
   ]
  },
  {
   "cell_type": "markdown",
   "id": "b2fc0e14",
   "metadata": {},
   "source": []
  },
  {
   "cell_type": "code",
   "execution_count": 8,
   "id": "562617e9",
   "metadata": {},
   "outputs": [],
   "source": [
    "#Feature scaling for total leg length and body length to avoid data skewing in one scale over the other \n",
    "sc = preprocessing.StandardScaler()\n",
    "x_train = sc.fit_transform(x_train)\n",
    "x_test = sc.transform(x_test)"
   ]
  },
  {
   "cell_type": "markdown",
   "id": "1a180e2c",
   "metadata": {},
   "source": [
    "### 2.3.4 Fitting Logistic regression on training data"
   ]
  },
  {
   "cell_type": "code",
   "execution_count": 9,
   "id": "fb97d83c",
   "metadata": {},
   "outputs": [
    {
     "name": "stderr",
     "output_type": "stream",
     "text": [
      "C:\\Users\\Leonard\\anaconda3\\lib\\site-packages\\sklearn\\utils\\validation.py:63: DataConversionWarning: A column-vector y was passed when a 1d array was expected. Please change the shape of y to (n_samples, ), for example using ravel().\n",
      "  return f(*args, **kwargs)\n"
     ]
    },
    {
     "data": {
      "text/plain": [
       "LogisticRegression(random_state=0)"
      ]
     },
     "execution_count": 9,
     "metadata": {},
     "output_type": "execute_result"
    }
   ],
   "source": [
    "from sklearn.linear_model import LogisticRegression\n",
    "regress = LogisticRegression(solver='lbfgs',random_state=0)\n",
    "regress.fit(x_train,y_train)"
   ]
  },
  {
   "cell_type": "markdown",
   "id": "b296360f",
   "metadata": {},
   "source": [
    "### 2.3.4 Test set result precidtion accuracy of Logistic regression"
   ]
  },
  {
   "cell_type": "code",
   "execution_count": 10,
   "id": "a66f6904",
   "metadata": {},
   "outputs": [
    {
     "name": "stdout",
     "output_type": "stream",
     "text": [
      "\n",
      "Accuracy:1.00\n"
     ]
    }
   ],
   "source": [
    "y_predict = regress.predict(x_test)\n",
    "y_predict\n",
    "print('\\nAccuracy:{:.2f}'.format(regress.score(x_test,y_test)))"
   ]
  },
  {
   "cell_type": "code",
   "execution_count": 11,
   "id": "c3fe8adb",
   "metadata": {},
   "outputs": [],
   "source": [
    "#training set result visualization\n",
    "x1,x2=np.meshgrid(np.arange(start = x_train[:,0].min()-1, stop = x_train[:,0].max()+1, step=0.01),np.arange(start = x_train[:,1].min()-1,stop = x_train[:,1].max()+1,step=0.01))\n",
    "z=regress.predict(np.array([x1.ravel(),x2.ravel()]).T).reshape(x1.shape)\n",
    "c_map = ListedColormap((\"pink\",\"skyblue\"))"
   ]
  },
  {
   "cell_type": "markdown",
   "id": "7bdb994d",
   "metadata": {},
   "source": [
    "## 2.4 Data analysis of logistic regression model"
   ]
  },
  {
   "cell_type": "markdown",
   "id": "203752bd",
   "metadata": {},
   "source": [
    "In this section, 0 and 1 labels both indicate genders, female and male respectively, the logistic model was used to seperate genders and establish possible boundries for each domain.In doing so, illustrating the \"inter-species variation in the degree of sexual dimorphism within the Microvelia genus\" discussed by William Toubiana and Abderrahman Khila at ease."
   ]
  },
  {
   "cell_type": "code",
   "execution_count": 12,
   "id": "88a82104",
   "metadata": {},
   "outputs": [
    {
     "name": "stderr",
     "output_type": "stream",
     "text": [
      "*c* argument looks like a single numeric RGB or RGBA sequence, which should be avoided as value-mapping will have precedence in case its length matches with *x* & *y*.  Please use the *color* keyword-argument or provide a 2-D array with a single row if you intend to specify the same RGB or RGBA value for all points.\n",
      "*c* argument looks like a single numeric RGB or RGBA sequence, which should be avoided as value-mapping will have precedence in case its length matches with *x* & *y*.  Please use the *color* keyword-argument or provide a 2-D array with a single row if you intend to specify the same RGB or RGBA value for all points.\n"
     ]
    },
    {
     "data": {
      "text/plain": [
       "<matplotlib.legend.Legend at 0x1dae00c02b0>"
      ]
     },
     "execution_count": 12,
     "metadata": {},
     "output_type": "execute_result"
    },
    {
     "data": {
      "image/png": "[encoded data removed]",
      "text/plain": [
       "<Figure size 432x288 with 1 Axes>"
      ]
     },
     "metadata": {
      "needs_background": "light"
     },
     "output_type": "display_data"
    }
   ],
   "source": [
    "plt.contourf(x1,x2,z,alpha=0.15, cmap =c_map)\n",
    "\n",
    "for idx, cl in enumerate(np.unique(y_train)):\n",
    " plt.scatter(x=x_train[y_train.ravel() == cl, 0], y=x_train[y_train.ravel() == cl, 1],\n",
    " alpha=1,\n",
    " marker=\"+\", label=cl , c = c_map(idx))\n",
    "\n",
    "plt.xlabel(\"Total leg length\")\n",
    "plt.ylabel(\"Body length\")\n",
    "plt.title(\"Wingless longipes mating plot\")\n",
    "#legend with 0 as female and 1 as male\n",
    "plt.legend()"
   ]
  },
  {
   "cell_type": "markdown",
   "id": "cdc0a067",
   "metadata": {},
   "source": []
  },
  {
   "cell_type": "code",
   "execution_count": null,
   "id": "79b78fcc",
   "metadata": {},
   "outputs": [],
   "source": []
  }
 ],
 "metadata": {
  "kernelspec": {
   "display_name": "Python 3",
   "language": "python",
   "name": "python3"
  },
  "language_info": {
   "codemirror_mode": {
    "name": "ipython",
    "version": 3
   },
   "file_extension": ".py",
   "mimetype": "text/x-python",
   "name": "python",
   "nbconvert_exporter": "python",
   "pygments_lexer": "ipython3",
   "version": "3.8.8"
  }
 },
 "nbformat": 4,
 "nbformat_minor": 5
}

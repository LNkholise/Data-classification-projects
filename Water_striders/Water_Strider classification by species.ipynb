{
 "cells": [
  {
   "cell_type": "code",
   "execution_count": 1,
   "id": "33b2fb7d",
   "metadata": {},
   "outputs": [],
   "source": [
    "#Name: Leonard Nkholise \n",
    "#date: 28 December 2021\n",
    "#datasource link: https://royalsocietypublishing.org/doi/10.1098/rspb.2018.2400\n",
    "\n",
    "import pandas as pd\n",
    "import matplotlib.pyplot as plt\n",
    "import numpy as np\n",
    "\n",
    "from sklearn.cluster import KMeans\n",
    "from sklearn import preprocessing\n",
    "\n",
    "from matplotlib.colors import ListedColormap"
   ]
  },
  {
   "cell_type": "markdown",
   "id": "5294d666",
   "metadata": {},
   "source": [
    "# 1.0 Data Reading & Handling "
   ]
  },
  {
   "cell_type": "markdown",
   "id": "4ad81ad3",
   "metadata": {},
   "source": [
    "## 1.1 Read and assign filtered .csv data into program  "
   ]
  },
  {
   "cell_type": "code",
   "execution_count": 2,
   "id": "72788006",
   "metadata": {},
   "outputs": [],
   "source": [
    "c_data = pd.read_csv(\"Allometry_all microvelia species.csv\")"
   ]
  },
  {
   "cell_type": "code",
   "execution_count": 3,
   "id": "2528566f",
   "metadata": {},
   "outputs": [],
   "source": [
    "#longipes filtered out for distinct, non-overllaping clustering using k-means\n",
    "c_data=c_data[c_data[\"Species\"]!=\"longipes\"]"
   ]
  },
  {
   "cell_type": "code",
   "execution_count": 4,
   "id": "a5ca616c",
   "metadata": {},
   "outputs": [],
   "source": [
    "x_data = c_data.iloc[:,[4,5]].values\n",
    "y_data = c_data.loc[:,\"Species\"].values.reshape(-1,1)"
   ]
  },
  {
   "cell_type": "markdown",
   "id": "cdf62d8b",
   "metadata": {},
   "source": [
    "## 1.2 Acquire the optimal number of clusters in data "
   ]
  },
  {
   "cell_type": "markdown",
   "id": "08f494de",
   "metadata": {},
   "source": [
    "This is done using the \"Elbow method\" and WCSS (within-cluster sums of squares). The \"elbow\" is read from the \"Elbow method\" graph and the optimal cluster number obtained from doing so is regarded and used as the ideal number of clusters for the dataset.  "
   ]
  },
  {
   "cell_type": "code",
   "execution_count": 5,
   "id": "95ef0f82",
   "metadata": {},
   "outputs": [
    {
     "name": "stderr",
     "output_type": "stream",
     "text": [
      "C:\\Users\\Leonard\\anaconda3\\lib\\site-packages\\sklearn\\cluster\\_kmeans.py:881: UserWarning: KMeans is known to have a memory leak on Windows with MKL, when there are less chunks than available threads. You can avoid it by setting the environment variable OMP_NUM_THREADS=1.\n",
      "  warnings.warn(\n"
     ]
    }
   ],
   "source": [
    "wcss = []\n",
    "for i in range(1,8):\n",
    "    kmeans = KMeans(n_clusters = i, init = 'k-means++', random_state =42)\n",
    "    kmeans.fit(x_data)\n",
    "    wcss.append(kmeans.inertia_)"
   ]
  },
  {
   "cell_type": "code",
   "execution_count": 6,
   "id": "64b1ab7b",
   "metadata": {},
   "outputs": [
    {
     "name": "stderr",
     "output_type": "stream",
     "text": [
      "C:\\Users\\Leonard\\anaconda3\\lib\\site-packages\\sklearn\\utils\\validation.py:63: DataConversionWarning: A column-vector y was passed when a 1d array was expected. Please change the shape of y to (n_samples, ), for example using ravel().\n",
      "  return f(*args, **kwargs)\n"
     ]
    }
   ],
   "source": [
    "\n",
    "lab_enc=preprocessing.LabelEncoder()\n",
    "y_data = lab_enc.fit_transform(y_data).reshape(-1,1)"
   ]
  },
  {
   "cell_type": "code",
   "execution_count": 7,
   "id": "c86b2efa",
   "metadata": {},
   "outputs": [
    {
     "data": {
      "text/plain": [
       "Text(0, 0.5, 'wcss')"
      ]
     },
     "execution_count": 7,
     "metadata": {},
     "output_type": "execute_result"
    },
    {
     "data": {
      "image/png": "[encoded data removed]",
      "text/plain": [
       "<Figure size 432x288 with 1 Axes>"
      ]
     },
     "metadata": {
      "needs_background": "light"
     },
     "output_type": "display_data"
    }
   ],
   "source": [
    "#The \"elbow\" appears to be at 3, indicating the likeliest possible cluster count as such\n",
    "plt.plot(range(1,8),wcss)\n",
    "plt.title(\"Elbow Method\")\n",
    "plt.xlabel(\"cluster number\")\n",
    "plt.ylabel(\"wcss\")"
   ]
  },
  {
   "cell_type": "markdown",
   "id": "23445773",
   "metadata": {},
   "source": [
    "## 1.3 Applying K-means clustering to the filtered water strider dataset"
   ]
  },
  {
   "cell_type": "markdown",
   "id": "7b8ebc88",
   "metadata": {},
   "source": [
    "The previously predicted \"ideal\" cluster number or count is used to run a k-means cluster fit to the data, predicting the likeliest location of clusters in the data (Predicted water strider species), which, in this case correspond to the actual ones (Recorded Water strider species)."
   ]
  },
  {
   "cell_type": "code",
   "execution_count": 8,
   "id": "f1524c32",
   "metadata": {},
   "outputs": [],
   "source": [
    "#Now to apply the K-means to the filtered water strider dataset\n",
    "kmeans = KMeans(n_clusters = 3, init = 'k-means++', random_state =0)\n",
    "y_means = kmeans.fit_predict(x_data)"
   ]
  },
  {
   "cell_type": "markdown",
   "id": "34e542cc",
   "metadata": {},
   "source": [
    "## 1.4 Data analysis of K-means model"
   ]
  },
  {
   "cell_type": "markdown",
   "id": "104c9be1",
   "metadata": {},
   "source": [
    "<p1>By removing the americana species from the dataset for easy model fitting, three out of four remaining distinct species of water-striders were predicted.Two water strider species seem to have been detected as one \"cluster\" using k-means clustering, the problem arises potentially due to indecisive over-lapping between the two contained clusters.</p1>"
   ]
  },
  {
   "cell_type": "code",
   "execution_count": 9,
   "id": "1cd0ff17",
   "metadata": {},
   "outputs": [
    {
     "data": {
      "text/plain": [
       "Text(0, 0.5, 'total leg length')"
      ]
     },
     "execution_count": 9,
     "metadata": {},
     "output_type": "execute_result"
    },
    {
     "data": {
      "image/png": "[encoded data removed]",
      "text/plain": [
       "<Figure size 432x288 with 1 Axes>"
      ]
     },
     "metadata": {
      "needs_background": "light"
     },
     "output_type": "display_data"
    }
   ],
   "source": [
    "plt.scatter(x_data[y_means == 1,0],x_data[y_means == 1,1], label = \"cluster 1\", marker=\"+\")\n",
    "plt.scatter(x_data[y_means == 2,0],x_data[y_means == 2,1], label = \"cluster 2\", c = \"green\", marker=\"+\")\n",
    "plt.scatter(x_data[y_means == 0,0],x_data[y_means == 0,1], label = \"cluster 3\", c = \"purple\", marker = \"+\")\n",
    "plt.scatter(kmeans.cluster_centers_[:,0],kmeans.cluster_centers_[:,1], label = \"centroids\" , s= 120,c = \"orange\", marker = \".\")\n",
    "plt.legend()\n",
    "plt.title(\"Predicted water strider species\")\n",
    "plt.xlabel(\"body length\")\n",
    "plt.ylabel(\"total leg length\")"
   ]
  },
  {
   "cell_type": "code",
   "execution_count": 10,
   "id": "8f7007e2",
   "metadata": {
    "scrolled": false
   },
   "outputs": [
    {
     "name": "stderr",
     "output_type": "stream",
     "text": [
      "*c* argument looks like a single numeric RGB or RGBA sequence, which should be avoided as value-mapping will have precedence in case its length matches with *x* & *y*.  Please use the *color* keyword-argument or provide a 2-D array with a single row if you intend to specify the same RGB or RGBA value for all points.\n",
      "*c* argument looks like a single numeric RGB or RGBA sequence, which should be avoided as value-mapping will have precedence in case its length matches with *x* & *y*.  Please use the *color* keyword-argument or provide a 2-D array with a single row if you intend to specify the same RGB or RGBA value for all points.\n",
      "*c* argument looks like a single numeric RGB or RGBA sequence, which should be avoided as value-mapping will have precedence in case its length matches with *x* & *y*.  Please use the *color* keyword-argument or provide a 2-D array with a single row if you intend to specify the same RGB or RGBA value for all points.\n",
      "*c* argument looks like a single numeric RGB or RGBA sequence, which should be avoided as value-mapping will have precedence in case its length matches with *x* & *y*.  Please use the *color* keyword-argument or provide a 2-D array with a single row if you intend to specify the same RGB or RGBA value for all points.\n"
     ]
    },
    {
     "data": {
      "text/plain": [
       "Text(0, 0.5, 'total leg length')"
      ]
     },
     "execution_count": 10,
     "metadata": {},
     "output_type": "execute_result"
    },
    {
     "data": {
      "image/png": "[encoded data removed]",
      "text/plain": [
       "<Figure size 432x288 with 1 Axes>"
      ]
     },
     "metadata": {
      "needs_background": "light"
     },
     "output_type": "display_data"
    }
   ],
   "source": [
    "c_map = ListedColormap((\"blue\",\"green\",\"red\",\"purple\"))\n",
    "\n",
    "for idx, cl in enumerate(np.unique(y_data)):\n",
    " plt.scatter(x=x_data[y_data.ravel() == cl, 0], y=x_data[y_data.ravel() == cl, 1],\n",
    " alpha=1,\n",
    " marker=\"+\", label=cl , c = c_map(idx) )\n",
    "plt.legend()\n",
    "plt.title(\"Recorded Water strider species\")\n",
    "plt.xlabel(\"body length\")\n",
    "plt.ylabel(\"total leg length\")"
   ]
  },
  {
   "cell_type": "markdown",
   "id": "bdfcd58a",
   "metadata": {},
   "source": [
    "3=pulchella, 2=mimulla ,1=coretypes & 0=americana are presented in the scatterplot above. "
   ]
  },
  {
   "cell_type": "markdown",
   "id": "f70e4d17",
   "metadata": {},
   "source": [
    "<p>Given the effectiveness of the k-means clustering model in predicting the actual number of species within the water strider dataset, a conclusion can be made that indeed k-means is useful in the taxonomy of some creatures</p>"
   ]
  },
  {
   "cell_type": "markdown",
   "id": "f33a1f06",
   "metadata": {},
   "source": [
    "## 1.5 Conclusions"
   ]
  },
  {
   "cell_type": "markdown",
   "id": "c54d15f7",
   "metadata": {},
   "source": [
    "This technique of identifying insects with such accuracy using machine learning principles such as k-means clustering can potentially be used in pest control in agriculture on subspecies of insects of a similar trend. Oftentimes in agriculture, correctly identifying different species of pests in a region is necessary in order to avoid economic damage being sustained & also in retaining and identifying beneficial insects in said regions.  "
   ]
  }
 ],
 "metadata": {
  "kernelspec": {
   "display_name": "Python 3",
   "language": "python",
   "name": "python3"
  },
  "language_info": {
   "codemirror_mode": {
    "name": "ipython",
    "version": 3
   },
   "file_extension": ".py",
   "mimetype": "text/x-python",
   "name": "python",
   "nbconvert_exporter": "python",
   "pygments_lexer": "ipython3",
   "version": "3.8.8"
  }
 },
 "nbformat": 4,
 "nbformat_minor": 5
}
